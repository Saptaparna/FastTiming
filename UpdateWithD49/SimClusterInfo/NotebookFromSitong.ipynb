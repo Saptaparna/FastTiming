{
 "cells": [
  {
   "cell_type": "code",
   "execution_count": 32,
   "metadata": {},
   "outputs": [],
   "source": [
    "import uproot\n",
    "import awkward\n",
    "import numpy as np\n",
    "import matplotlib as mpl\n",
    "import matplotlib.pyplot as plt\n",
    "import pandas as pd\n",
    "import networkx as nx\n",
    "\n",
    "from tqdm import tqdm_notebook as tqdm"
   ]
  },
  {
   "cell_type": "code",
   "execution_count": 33,
   "metadata": {},
   "outputs": [],
   "source": [
    "def plotHist(axes, data, xlabel, ylabel, title, Nbins = 100, range=None, xlog=False, ylog=False):\n",
    "    axes.set_xlabel(xlabel)\n",
    "    axes.set_ylabel(ylabel)\n",
    "    axes.set_title(title)\n",
    "    if xlog:\n",
    "        axes.set_xscale('log')\n",
    "        Nbins = np.logspace(np.log10(data.min()),np.log10(data.max()),Nbins)\n",
    "    return axes.hist(data, bins=Nbins, range=range, histtype='step', log=ylog); \n",
    "    \n",
    "def plotHist_absxlog(axes, data, xlabel, ylabel, title, Nbins = 100, ylog=False):\n",
    "    axes.set_xlabel(xlabel)\n",
    "    axes.set_ylabel(ylabel)\n",
    "    axes.set_title(title)\n",
    "    axes.set_xscale('log')\n",
    "    Nbins = np.logspace(np.log10(np.abs(data).min()),np.log10(np.abs(data).max()),Nbins)\n",
    "    axes.hist(data, bins=Nbins, histtype='step', log=ylog); \n",
    "    \n",
    "def plotHist_layers(data, ylabel, title, xlabel=\"Layer\", log=True):\n",
    "    fig,axes = plt.subplots(figsize=(10, 7));\n",
    "    axes.set_xlabel(xlabel)\n",
    "    axes.set_xticks(np.arange(53)+0.5, minor=True)\n",
    "    axes.set_ylabel(ylabel)\n",
    "    axes.set_title(title)\n",
    "    axes.hist(data, range=(0,60), bins=np.arange(62)-0.5, log=log, histtype='step', linewidth = '1.5');\n",
    "    plt.grid(True, which='minor', axis='x', linewidth='0.5')\n",
    "    return fig"
   ]
  },
  {
   "cell_type": "code",
   "execution_count": 34,
   "metadata": {},
   "outputs": [],
   "source": [
    "#fname = '~/Downloads/hgcalNtuple.root'\n",
    "#fname = 'hgcalNtuple_5k.root'\n",
    "fname = 'hgcalNtuple_April25.root'\n",
    "rootfile = uproot.open(fname)['ana']['hgc']\n",
    "figs = []"
   ]
  },
  {
   "cell_type": "code",
   "execution_count": 35,
   "metadata": {},
   "outputs": [
    {
     "data": {
      "text/plain": [
       "[b'event',\n",
       " b'lumi',\n",
       " b'run',\n",
       " b'vtx_x',\n",
       " b'vtx_y',\n",
       " b'vtx_z',\n",
       " b'genpart_eta',\n",
       " b'genpart_phi',\n",
       " b'genpart_pt',\n",
       " b'genpart_energy',\n",
       " b'genpart_dvx',\n",
       " b'genpart_dvy',\n",
       " b'genpart_dvz',\n",
       " b'genpart_ovx',\n",
       " b'genpart_ovy',\n",
       " b'genpart_ovz',\n",
       " b'genpart_mother',\n",
       " b'genpart_exphi',\n",
       " b'genpart_exeta',\n",
       " b'genpart_exx',\n",
       " b'genpart_exy',\n",
       " b'genpart_fbrem',\n",
       " b'genpart_pid',\n",
       " b'genpart_gen',\n",
       " b'genpart_reachedEE',\n",
       " b'genpart_fromBeamPipe',\n",
       " b'genpart_posx',\n",
       " b'genpart_posy',\n",
       " b'genpart_posz',\n",
       " b'gen_eta',\n",
       " b'gen_phi',\n",
       " b'gen_pt',\n",
       " b'gen_energy',\n",
       " b'gen_charge',\n",
       " b'gen_pdgid',\n",
       " b'gen_status',\n",
       " b'gen_daughters',\n",
       " b'rechit_eta',\n",
       " b'rechit_phi',\n",
       " b'rechit_pt',\n",
       " b'rechit_energy',\n",
       " b'rechit_x',\n",
       " b'rechit_y',\n",
       " b'rechit_z',\n",
       " b'rechit_time',\n",
       " b'rechit_thickness',\n",
       " b'rechit_layer',\n",
       " b'rechit_wafer_u',\n",
       " b'rechit_wafer_v',\n",
       " b'rechit_cell_u',\n",
       " b'rechit_cell_v',\n",
       " b'rechit_detid',\n",
       " b'rechit_isHalf',\n",
       " b'rechit_flags',\n",
       " b'rechit_cluster2d',\n",
       " b'rechit_radius',\n",
       " b'cluster2d_eta',\n",
       " b'cluster2d_phi',\n",
       " b'cluster2d_pt',\n",
       " b'cluster2d_energy',\n",
       " b'cluster2d_x',\n",
       " b'cluster2d_y',\n",
       " b'cluster2d_z',\n",
       " b'cluster2d_layer',\n",
       " b'cluster2d_nhitCore',\n",
       " b'cluster2d_nhitAll',\n",
       " b'cluster2d_multicluster',\n",
       " b'cluster2d_rechits',\n",
       " b'cluster2d_rechitSeed',\n",
       " b'multiclus_eta',\n",
       " b'multiclus_phi',\n",
       " b'multiclus_pt',\n",
       " b'multiclus_energy',\n",
       " b'multiclus_z',\n",
       " b'multiclus_slopeX',\n",
       " b'multiclus_slopeY',\n",
       " b'multiclus_cluster2d',\n",
       " b'multiclus_cl2dSeed',\n",
       " b'multiclus_firstLay',\n",
       " b'multiclus_lastLay',\n",
       " b'multiclus_NLay',\n",
       " b'multiclus_pcaAxisX',\n",
       " b'multiclus_pcaAxisY',\n",
       " b'multiclus_pcaAxisZ',\n",
       " b'multiclus_pcaPosX',\n",
       " b'multiclus_pcaPosY',\n",
       " b'multiclus_pcaPosZ',\n",
       " b'multiclus_eigenVal1',\n",
       " b'multiclus_eigenVal2',\n",
       " b'multiclus_eigenVal3',\n",
       " b'multiclus_eigenSig1',\n",
       " b'multiclus_eigenSig2',\n",
       " b'multiclus_eigenSig3',\n",
       " b'multiclus_siguu',\n",
       " b'multiclus_sigvv',\n",
       " b'multiclus_sigpp',\n",
       " b'multiclus_sigee',\n",
       " b'simcluster_eta',\n",
       " b'simcluster_phi',\n",
       " b'simcluster_pt',\n",
       " b'simcluster_energy',\n",
       " b'simcluster_pid',\n",
       " b'simcluster_simEnergy',\n",
       " b'simcluster_hits',\n",
       " b'simcluster_hits_indices',\n",
       " b'simcluster_fractions',\n",
       " b'simcluster_layers',\n",
       " b'simcluster_wafers_u',\n",
       " b'simcluster_wafers_v',\n",
       " b'simcluster_cells_u',\n",
       " b'simcluster_cells_v',\n",
       " b'simcluster_time_impactPoint',\n",
       " b'simcluster_x_impactPoint',\n",
       " b'simcluster_y_impactPoint',\n",
       " b'simcluster_z_impactPoint',\n",
       " b'simcluster_eta_impactPoint',\n",
       " b'simcluster_phi_impactPoint',\n",
       " b'simcluster_pt_impactMomentumPt',\n",
       " b'simcluster_pt_impactMomentumEta',\n",
       " b'simcluster_pt_impactMomentumPhi',\n",
       " b'simcluster_pt_impactMomentumE',\n",
       " b'simHit_time',\n",
       " b'simHit_x',\n",
       " b'simHit_y',\n",
       " b'simHit_z',\n",
       " b'pfcluster_eta',\n",
       " b'pfcluster_phi',\n",
       " b'pfcluster_pt',\n",
       " b'pfcluster_energy',\n",
       " b'pfcluster_correctedEnergy',\n",
       " b'pfcluster_hits',\n",
       " b'pfcluster_fractions',\n",
       " b'pfclusterFromMultiCl_pos',\n",
       " b'pfclusterFromMultiCl_eta',\n",
       " b'pfclusterFromMultiCl_phi',\n",
       " b'pfclusterFromMultiCl_pt',\n",
       " b'pfclusterFromMultiCl_energy',\n",
       " b'pfclusterFromMultiCl_energyEE',\n",
       " b'pfclusterFromMultiCl_energyFH',\n",
       " b'pfclusterFromMultiCl_energyBH',\n",
       " b'pfclusterFromMultiCl_correctedEnergy',\n",
       " b'pfclusterFromMultiCl_hits',\n",
       " b'pfclusterFromMultiCl_fractions',\n",
       " b'pfclusterFromMultiCl_rechits',\n",
       " b'ecalDrivenGsfele_charge',\n",
       " b'ecalDrivenGsfele_eta',\n",
       " b'ecalDrivenGsfele_phi',\n",
       " b'ecalDrivenGsfele_pt',\n",
       " b'ecalDrivenGsfele_scpos',\n",
       " b'ecalDrivenGsfele_sceta',\n",
       " b'ecalDrivenGsfele_scphi',\n",
       " b'ecalDrivenGsfele_seedlayer',\n",
       " b'ecalDrivenGsfele_seedpos',\n",
       " b'ecalDrivenGsfele_seedeta',\n",
       " b'ecalDrivenGsfele_seedphi',\n",
       " b'ecalDrivenGsfele_seedenergy',\n",
       " b'ecalDrivenGsfele_energy',\n",
       " b'ecalDrivenGsfele_energyEE',\n",
       " b'ecalDrivenGsfele_energyFH',\n",
       " b'ecalDrivenGsfele_energyBH',\n",
       " b'ecalDrivenGsfele_isEB',\n",
       " b'ecalDrivenGsfele_hoe',\n",
       " b'ecalDrivenGsfele_numClinSC',\n",
       " b'ecalDrivenGsfele_track_dxy',\n",
       " b'ecalDrivenGsfele_track_dz',\n",
       " b'ecalDrivenGsfele_track_simdxy',\n",
       " b'ecalDrivenGsfele_track_simdz',\n",
       " b'ecalDrivenGsfele_deltaEtaSuperClusterTrackAtVtx',\n",
       " b'ecalDrivenGsfele_deltaPhiSuperClusterTrackAtVtx',\n",
       " b'ecalDrivenGsfele_deltaEtaEleClusterTrackAtCalo',\n",
       " b'ecalDrivenGsfele_deltaPhiEleClusterTrackAtCalo',\n",
       " b'ecalDrivenGsfele_deltaEtaSeedClusterTrackAtCalo',\n",
       " b'ecalDrivenGsfele_deltaPhiSeedClusterTrackAtCalo',\n",
       " b'ecalDrivenGsfele_eSuperClusterOverP',\n",
       " b'ecalDrivenGsfele_eSeedClusterOverP',\n",
       " b'ecalDrivenGsfele_eSeedClusterOverPout',\n",
       " b'ecalDrivenGsfele_eEleClusterOverPout',\n",
       " b'ecalDrivenGsfele_pfClusterIndex',\n",
       " b'calopart_eta',\n",
       " b'calopart_phi',\n",
       " b'calopart_pt',\n",
       " b'calopart_energy',\n",
       " b'calopart_simEnergy',\n",
       " b'calopart_simClusterIndex',\n",
       " b'track_eta',\n",
       " b'track_phi',\n",
       " b'track_pt',\n",
       " b'track_energy',\n",
       " b'track_charge',\n",
       " b'track_posx',\n",
       " b'track_posy',\n",
       " b'track_posz',\n",
       " b'pfcandidate_eta',\n",
       " b'pfcandidate_phi',\n",
       " b'pfcandidate_pt',\n",
       " b'pfcandidate_energy',\n",
       " b'pfcandidate_pdgid',\n",
       " b'gunparticle_id',\n",
       " b'gunparticle_energy',\n",
       " b'gunparticle_pt',\n",
       " b'gunparticle_eta',\n",
       " b'gunparticle_phi']"
      ]
     },
     "execution_count": 35,
     "metadata": {},
     "output_type": "execute_result"
    }
   ],
   "source": [
    "rootfile.keys()\n"
   ]
  },
  {
   "cell_type": "code",
   "execution_count": null,
   "metadata": {},
   "outputs": [],
   "source": [
    "rechit = rootfile.arrays([b'rechit_thickness', b'rechit_energy',  b'rechit_layer',  b'rechit_time', \\\n",
    "                          b'rechit_x', b'rechit_y', b'rechit_z', b'rechit_eta', b'rechit_phi'])\n",
    "rechit[b'rechit_x'].content[rechit[b'rechit_z'].content < 0] *= -1\n",
    "NEvents = rechit[b'rechit_z'].shape[0]\n",
    "simcluster = rootfile.arrays([b'simcluster_hits_indices',  b'simcluster_energy', b'simcluster_eta', b'simcluster_phi', b'simcluster_layers', b'simcluster_pid'])"
   ]
  },
  {
   "cell_type": "code",
   "execution_count": null,
   "metadata": {},
   "outputs": [],
   "source": [
    "sim_indices = awkward.fromiter(simcluster[b'simcluster_hits_indices'])\n",
    "valid_sim_indices = sim_indices[sim_indices > -1]\n"
   ]
  },
  {
   "cell_type": "code",
   "execution_count": null,
   "metadata": {},
   "outputs": [],
   "source": [
    "simcluster_rechit_cut = 3 #min no. of rechits in simcluster requirement (exclusive)\n",
    "simcluster_mask = awkward.JaggedArray.fromcounts(valid_sim_indices.counts,valid_sim_indices.flatten().counts > simcluster_rechit_cut)\n",
    "simcluster_mask = simcluster_mask & (simcluster[b'simcluster_energy'] > 1.0)\n",
    "valid_sim_indices = valid_sim_indices[simcluster_mask]\n",
    "for key, value in simcluster.items():\n",
    "    if (key == b'simcluster_hits_indices'): continue\n",
    "    simcluster[key] = awkward.fromiter(value)[simcluster_mask]"
   ]
  },
  {
   "cell_type": "code",
   "execution_count": null,
   "metadata": {},
   "outputs": [],
   "source": [
    "valid_sim_indices_eventlevel = valid_sim_indices.flatten(1)\n",
    "valid_sim_indices_eventlevel = awkward.fromiter(map(np.unique, valid_sim_indices_eventlevel))"
   ]
  },
  {
   "cell_type": "code",
   "execution_count": null,
   "metadata": {},
   "outputs": [],
   "source": [
    "simmatched_rechit = {}\n",
    "for key, value in rechit.items():\n",
    "    simmatched_rechit[key] = value[valid_sim_indices_eventlevel]"
   ]
  },
  {
   "cell_type": "code",
   "execution_count": null,
   "metadata": {},
   "outputs": [],
   "source": [
    "def rewrap_into_simcluster_structure(filelevel_array):\n",
    "    return awkward.JaggedArray.fromcounts(valid_sim_indices.counts,\\\n",
    "        (awkward.JaggedArray.fromcounts(valid_sim_indices.content.counts, filelevel_array)))\n",
    "\n",
    "rechit_simcluster = {}\n",
    "select_rechit_simcluster = [b'rechit_energy', b'rechit_layer', b'rechit_eta', b'rechit_phi', b'rechit_time']\n",
    "for key, value in rechit.items():\n",
    "    if key not in select_rechit_simcluster: continue\n",
    "    rechit_simcluster[key] = value[valid_sim_indices.flatten(1)]\n",
    "    rechit_simcluster[key] = rewrap_into_simcluster_structure(rechit_simcluster[key].content)\n",
    "    \n",
    "#corrected_rechit_simcluster_energy = rechit_simcluster[b'rechit_energy'] * rewrap_into_simcluster_structure(np.take(absorber_weights,rechit_simcluster[b'rechit_layer'].content.content))\n",
    "corrected_rechit_simcluster_energy = rechit_simcluster[b'rechit_energy']"
   ]
  },
  {
   "cell_type": "code",
   "execution_count": null,
   "metadata": {},
   "outputs": [],
   "source": [
    "def plotRechitEnergy_Thickness(thickness, rechit_energy, rechit_thickness, title_target):\n",
    "    title = '%s Energy Distribution for %d um' % (title_target, thickness)\n",
    "    if thickness == 100:\n",
    "        e = rechit_energy.flatten()[(rechit_thickness.flatten() > 99.0) & (rechit_thickness.flatten() < 121.0)]\n",
    "#       e = rechit_pd[(rechit_pd[b'rechit_thickness'] > 99.0) & (rechit_pd[b'rechit_thickness'] < 121.0)][b'rechit_energy']\n",
    "    if thickness == 200:\n",
    "        #e = rechit_pd[(rechit_pd[b'rechit_thickness'] > 199.0) & (rechit_pd[b'rechit_thickness'] < 201.0)][b'rechit_energy']\n",
    "        e = rechit_energy.flatten()[(rechit_thickness.flatten() > 199.0) & (rechit_thickness.flatten() < 201.0)]\n",
    "    if thickness == 300:\n",
    "        #e = rechit_pd[(rechit_pd[b'rechit_thickness'] > 299.0) & (rechit_pd[b'rechit_thickness'] < 301.0)][b'rechit_energy']\n",
    "        e = rechit_energy.flatten()[(rechit_thickness.flatten() > 299.0) & (rechit_thickness.flatten() < 301.0)]\n",
    "    if thickness == -1:\n",
    "        #e = rechit_pd[(rechit_pd[b'rechit_thickness'] > 301.0)][b'rechit_energy']\n",
    "        e = rechit_energy.flatten()[rechit_thickness.flatten() > 301.0]\n",
    "        title = \"%s Energy Distribution for Scintillator Backing Calorimeter\" % (title_target)\n",
    "    \n",
    "    fig = plt.figure(figsize=(17,5));\n",
    "    ax1 = fig.add_subplot(121);\n",
    "    plotHist(ax1, e, 'Energy/GeV', 'Rechits', title, Nbins = 100, ylog=True)\n",
    "    ax2 = fig.add_subplot(122);\n",
    "    plotHist(ax2, e, 'Energy/GeV', 'Rechits', title, Nbins = 100, xlog=True, ylog=True)\n",
    "    return fig;"
   ]
  },
  {
   "cell_type": "code",
   "execution_count": null,
   "metadata": {},
   "outputs": [],
   "source": [
    "def plotRechitTime_Thickness(thickness, rechit_time, rechit_thickness, title_target):\n",
    "    title = '%s Time Distribution for %d um' % (title_target, thickness)\n",
    "    if thickness == 100:\n",
    "        e = (rechit_time.flatten() - 5)[(rechit_thickness.flatten() > 99.0) & (rechit_thickness.flatten() < 121.0) & (rechit_time.flatten() > -1)]\n",
    "#       e = rechit_pd[(rechit_pd[b'rechit_thickness'] > 99.0) & (rechit_pd[b'rechit_thickness'] < 121.0)][b'rechit_energy']\n",
    "    if thickness == 200:\n",
    "        #e = rechit_pd[(rechit_pd[b'rechit_thickness'] > 199.0) & (rechit_pd[b'rechit_thickness'] < 201.0)][b'rechit_energy']\n",
    "        e = (rechit_time.flatten() - 5)[(rechit_thickness.flatten() > 199.0) & (rechit_thickness.flatten() < 201.0) & (rechit_time.flatten() > -1)]\n",
    "    if thickness == 300:\n",
    "        #e = rechit_pd[(rechit_pd[b'rechit_thickness'] > 299.0) & (rechit_pd[b'rechit_thickness'] < 301.0)][b'rechit_energy']\n",
    "        e = (rechit_time.flatten() - 5)[(rechit_thickness.flatten() > 299.0) & (rechit_thickness.flatten() < 301.0) & (rechit_time.flatten() > -1)]\n",
    "    if thickness == -1:\n",
    "        #e = rechit_pd[(rechit_pd[b'rechit_thickness'] > 301.0)][b'rechit_energy']\n",
    "        e = (rechit_time.flatten() - 5)[rechit_thickness.flatten() > 301.0]\n",
    "        title = \"%s Time Distribution for Scintillator Backing Calorimeter\" % (title_target)\n",
    "    \n",
    "    fig = plt.figure(figsize=(17,5));\n",
    "    ax1 = fig.add_subplot(121);\n",
    "    plotHist(ax1, e, 'ns', 'Rechits', title, Nbins = 100, ylog=True)\n",
    "    ax2 = fig.add_subplot(122);\n",
    "    plotHist(ax2, e, 'ns', 'Rechits', title, Nbins = 100) # xlog=True, ylog=True)\n",
    "    return fig;"
   ]
  },
  {
   "cell_type": "code",
   "execution_count": null,
   "metadata": {},
   "outputs": [],
   "source": [
    "figs.append(plotRechitEnergy_Thickness(100, rechit[b'rechit_energy'], rechit[b'rechit_thickness'], \"Rechit\"));\n",
    "figs.append(plotRechitEnergy_Thickness(200, rechit[b'rechit_energy'], rechit[b'rechit_thickness'], \"Rechit\"));\n",
    "figs.append(plotRechitEnergy_Thickness(300, rechit[b'rechit_energy'], rechit[b'rechit_thickness'], \"Rechit\"));\n",
    "figs.append(plotRechitEnergy_Thickness(-1, rechit[b'rechit_energy'], rechit[b'rechit_thickness'], \"Rechit\"));\n",
    "figs.append(plotRechitTime_Thickness(100, rechit[b'rechit_time'], rechit[b'rechit_thickness'], \"Rechit\"));\n",
    "figs.append(plotRechitTime_Thickness(200, rechit[b'rechit_time'], rechit[b'rechit_thickness'], \"Rechit\"));\n",
    "figs.append(plotRechitTime_Thickness(300, rechit[b'rechit_time'], rechit[b'rechit_thickness'], \"Rechit\"));\n"
   ]
  },
  {
   "cell_type": "code",
   "execution_count": null,
   "metadata": {},
   "outputs": [],
   "source": [
    "figs.append(plotHist_layers(rechit[b'rechit_layer'].content, \"Rechits\", \"Rechit Multiplicity\"))\n"
   ]
  },
  {
   "cell_type": "code",
   "execution_count": null,
   "metadata": {},
   "outputs": [],
   "source": [
    "def plotRechitDistribution_Layers(rechit_layer, rechit_pos, title_target):\n",
    "    fig,axes = plt.subplots(figsize=(12, 7));\n",
    "    axes.set_xlabel(\"Layer\")\n",
    "    axes.set_ylabel(\"%s\" % (title_target))\n",
    "    axes.set_xticks(np.arange(53)+0.5, minor=True)\n",
    "    axes.set_title(\"%s distribution in Layers\" % (title_target))\n",
    "    h = axes.hist2d(rechit_layer.content, rechit_pos.content, bins=(np.arange(62)-0.5, 500), range=((-0.5,60.5),(-250.0, 250.0)), norm=mpl.colors.LogNorm());\n",
    "    plt.grid(True, which='minor', axis='x', linewidth='0.5')\n",
    "    plt.colorbar(h[3], ax=axes);\n",
    "    return fig"
   ]
  },
  {
   "cell_type": "code",
   "execution_count": null,
   "metadata": {},
   "outputs": [],
   "source": [
    "figs.append(plotRechitDistribution_Layers(rechit[b'rechit_layer'], rechit[b'rechit_x'], 'Rechit x'));\n",
    "figs.append(plotRechitDistribution_Layers(rechit[b'rechit_layer'], rechit[b'rechit_y'], 'Rechit y'));"
   ]
  },
  {
   "cell_type": "code",
   "execution_count": null,
   "metadata": {},
   "outputs": [],
   "source": [
    "figs.append(plotRechitEnergy_Thickness(100, simmatched_rechit[b'rechit_energy'], simmatched_rechit[b'rechit_thickness'], \"Sim-Matched Rechit\"));\n",
    "figs.append(plotRechitEnergy_Thickness(200, simmatched_rechit[b'rechit_energy'], simmatched_rechit[b'rechit_thickness'], \"Sim-Matched Rechit\"));\n",
    "figs.append(plotRechitEnergy_Thickness(300, simmatched_rechit[b'rechit_energy'], simmatched_rechit[b'rechit_thickness'], \"Sim-Matched Rechit\"));\n",
    "figs.append(plotRechitEnergy_Thickness(-1, simmatched_rechit[b'rechit_energy'], simmatched_rechit[b'rechit_thickness'], \"Sim-Matched Rechit\"));\n",
    "figs.append(plotRechitTime_Thickness(100, simmatched_rechit[b'rechit_time'], simmatched_rechit[b'rechit_thickness'], \"Sim-Matched Rechit\"));\n",
    "figs.append(plotRechitTime_Thickness(200, simmatched_rechit[b'rechit_time'], simmatched_rechit[b'rechit_thickness'], \"Sim-Matched Rechit\"));\n",
    "figs.append(plotRechitTime_Thickness(300, simmatched_rechit[b'rechit_time'], simmatched_rechit[b'rechit_thickness'], \"Sim-Matched Rechit\"));\n"
   ]
  },
  {
   "cell_type": "code",
   "execution_count": null,
   "metadata": {},
   "outputs": [],
   "source": [
    "figs.append(plotHist_layers(simmatched_rechit[b'rechit_layer'].content, \"Sim-Matched Rechit\",\\\n",
    "                            \"Sim-Matched Rechit Multiplicity\", log=False))"
   ]
  },
  {
   "cell_type": "code",
   "execution_count": null,
   "metadata": {},
   "outputs": [],
   "source": [
    "figs.append(plotRechitDistribution_Layers(simmatched_rechit[b'rechit_layer'], simmatched_rechit[b'rechit_x'], 'Sim-matched Rechit x'));\n",
    "figs.append(plotRechitDistribution_Layers(simmatched_rechit[b'rechit_layer'], simmatched_rechit[b'rechit_y'], 'Sim-matched Rechit y'));"
   ]
  },
  {
   "cell_type": "code",
   "execution_count": null,
   "metadata": {},
   "outputs": [],
   "source": [
    "h = np.divide(corrected_rechit_simcluster_energy.flatten().sum(), simcluster[b'simcluster_energy'].flatten())\n",
    "#h = np.divide(rechit_simcluster[b'rechit_energy'].flatten().sum(), simcluster[b'simcluster_energy'].flatten())\n",
    "\n",
    "fig = plt.figure(figsize=(17,5));\n",
    "ax1 = fig.add_subplot(121);\n",
    "plotHist(ax1, h, \"(Sum of Energy of Sim-matched Rechit) / (Simcluster Energy)\", \"Simclusters\",\\\n",
    "         \"(Sum of Energy of Sim-matched Rechit) / (Simcluster Energy)\", Nbins = 100)\n",
    "ax2 = fig.add_subplot(122);\n",
    "plotHist(ax2, h, \"(Sum of Energy of Sim-matched Rechit) / (Simcluster Energy)\", \"Simclusters\",\\\n",
    "         \"(Sum of Energy of Sim-matched Rechit) / (Simcluster Energy)\", Nbins = 100, xlog=True, ylog=True)\n",
    "figs.append(fig)"
   ]
  },
  {
   "cell_type": "code",
   "execution_count": null,
   "metadata": {},
   "outputs": [],
   "source": [
    "eta_barycentre = np.divide((corrected_rechit_simcluster_energy.content * rechit_simcluster[b'rechit_eta'].content).sum(), \\\n",
    "                            corrected_rechit_simcluster_energy.content.sum())"
   ]
  },
  {
   "cell_type": "code",
   "execution_count": null,
   "metadata": {},
   "outputs": [],
   "source": [
    "h = simcluster[b'simcluster_eta'].content - eta_barycentre\n",
    "\n",
    "fig = plt.figure(figsize=(18,5));\n",
    "ax1 = fig.add_subplot(121);\n",
    "plotHist(ax1, h, \"(Eta of the Simcluster) - (Energy-weighted Eta Barycentre of Sim-matched Rechits)\",\\\n",
    "        \"Simclusters\", \"(Eta of the Simcluster) - (Energy-weighted Eta Barycentre of Sim-matched Rechits)\",\\\n",
    "        Nbins=100, ylog=True)\n",
    "ax2 = fig.add_subplot(122);\n",
    "plotHist_absxlog(ax2, h, \"Abs((Eta of the Simcluster) - (Energy-weighted Eta Barycentre of Sim-matched Rechits))\",\\\n",
    "        \"Simclusters\", \"Abs((Eta of the Simcluster) - (Energy-weighted Eta Barycentre of Sim-matched Rechits))\",\\\n",
    "        Nbins=100)\n",
    "figs.append(fig)\n",
    "\n",
    "fig, axes = plt.subplots(figsize=(18,5));\n",
    "plotHist(axes, h, \"(Eta of the Simcluster) - (Energy-weighted Eta Barycentre of Sim-matched Rechits)\",\\\n",
    "        \"Simclusters\", \"(Eta of the Simcluster) - (Energy-weighted Eta Barycentre of Sim-matched Rechits) - Zoomed in\",\\\n",
    "        Nbins=200, range=(-0.01, 0.01))\n",
    "figs.append(fig)\n"
   ]
  },
  {
   "cell_type": "code",
   "execution_count": null,
   "metadata": {},
   "outputs": [],
   "source": [
    "phi_barycentre = np.divide((corrected_rechit_simcluster_energy.content * rechit_simcluster[b'rechit_phi'].content).sum(), \\\n",
    "                            corrected_rechit_simcluster_energy.content.sum())"
   ]
  },
  {
   "cell_type": "code",
   "execution_count": null,
   "metadata": {},
   "outputs": [],
   "source": [
    "h = simcluster[b'simcluster_phi'].content - phi_barycentre\n",
    "fig = plt.figure(figsize=(18,5));\n",
    "ax1 = fig.add_subplot(121);\n",
    "plotHist(ax1, h, \"(Phi of the Simcluster) - (Energy-weighted Phi Barycentre of Sim-matched Rechits)\", \"Simclusters\",\\\n",
    "        \"(Phi of the Simcluster) - (Energy-weighted Phi Barycentre of Sim-matched Rechits)\", Nbins=200, ylog=True)\n",
    "ax2 = fig.add_subplot(122);\n",
    "plotHist_absxlog(ax2, h, \"Abs((Phi of the Simcluster) - (Energy-weighted Phi Barycentre of Sim-matched Rechits))\",\\\n",
    "                 \"Simclusters\",\\\n",
    "                 \"Abs((Phi of the Simcluster) - (Energy-weighted Phi Barycentre of Sim-matched Rechits))\", Nbins=200)\n",
    "figs.append(fig)\n",
    "\n",
    "fig, axes = plt.subplots(figsize=(18,5));\n",
    "plotHist(axes, h, \"(Phi of the Simcluster) - (Energy-weighted Phi Barycentre of Sim-matched Rechits)\", \"Simclusters\",\\\n",
    "        \"(Phi of the Simcluster) - (Energy-weighted Phi Barycentre of Sim-matched Rechits) - Zoomed in \",\\\n",
    "         range= (-0.1, 0.1), Nbins=500)\n",
    "figs.append(fig)\n"
   ]
  },
  {
   "cell_type": "code",
   "execution_count": null,
   "metadata": {},
   "outputs": [],
   "source": [
    "h = simcluster[b'simcluster_energy'].content\n",
    "fig,axes = plt.subplots(figsize=(12, 7));\n",
    "plotHist(axes, h, \"Simcluster Energy / GeV\", \"Simclusters\", \"Simcluster Energy\", Nbins=100)\n",
    "figs.append(fig)\n"
   ]
  },
  {
   "cell_type": "code",
   "execution_count": null,
   "metadata": {},
   "outputs": [],
   "source": [
    "x, y = np.unique(simcluster[b'simcluster_pid'].flatten(), return_counts=True)\n",
    "x_pos = np.arange(len(x))\n",
    "fig,axes = plt.subplots(figsize=(12, 7));\n",
    "axes.bar(x_pos, y, log=True, fill=False)\n",
    "axes.set_xticks(x_pos)\n",
    "axes.set_xticklabels(x)\n",
    "axes.set_title(\"Simcluster PID\")\n",
    "axes.set_xlabel(\"PID\")\n",
    "axes.set_ylabel(\"Simclusters\")\n",
    "plt.grid(True, which='both', axis='y')\n",
    "figs.append(fig)"
   ]
  },
  {
   "cell_type": "code",
   "execution_count": null,
   "metadata": {},
   "outputs": [],
   "source": [
    "fig,axes = plt.subplots(figsize=(12, 7));\n",
    "plotHist(axes, valid_sim_indices.flatten().counts+0.01, \"Sim-matched Rechits\", \"Simclusters\",\\\n",
    "         \"Sim-matched Rechit Multiplicity per Simcluster \\n peak on left indicates 0\", Nbins = 100 ,xlog=True)\n",
    "figs.append(fig)"
   ]
  },
  {
   "cell_type": "code",
   "execution_count": null,
   "metadata": {},
   "outputs": [],
   "source": [
    "fig,axes = plt.subplots(figsize=(12, 7));\n",
    "h= valid_sim_indices.counts\n",
    "plotHist(axes, h, \"Simclusters\", \"Events\",\\\n",
    "         \"Simcluster Multiplicity per event\", Nbins = np.arange(h.min()-0.5,h.max()+1.5,1))\n",
    "axes.set_xticks(np.arange(h.min(),h.max()+1,1), minor=False)\n",
    "figs.append(fig)"
   ]
  },
  {
   "cell_type": "code",
   "execution_count": null,
   "metadata": {},
   "outputs": [],
   "source": [
    "h = simcluster[b'simcluster_layers'].content.min()\n",
    "figs.append(plotHist_layers(h, \"Simclusters\", \"Simcluster - First Layer Number\", xlabel= \"First Layer Number\"))"
   ]
  },
  {
   "cell_type": "code",
   "execution_count": null,
   "metadata": {},
   "outputs": [],
   "source": [
    "h = simcluster[b'simcluster_layers'].content.max()\n",
    "figs.append(plotHist_layers(h, \"Simclusters\", \"Simcluster - Last Layer Number\", xlabel= \"Last Layer Number\"))"
   ]
  },
  {
   "cell_type": "code",
   "execution_count": null,
   "metadata": {},
   "outputs": [],
   "source": [
    "import matplotlib.backends.backend_pdf\n",
    "outname = 'validation_ntup_' + fname.rstrip('.root').split('/')[-1] +'.pdf'\n",
    "pdf = matplotlib.backends.backend_pdf.PdfPages(outname)\n",
    "for fig in figs: \n",
    "    pdf.savefig(fig)\n",
    "pdf.close()"
   ]
  },
  {
   "cell_type": "code",
   "execution_count": null,
   "metadata": {},
   "outputs": [],
   "source": []
  }
 ],
 "metadata": {
  "kernelspec": {
   "display_name": "Python 3",
   "language": "python",
   "name": "python3"
  },
  "language_info": {
   "codemirror_mode": {
    "name": "ipython",
    "version": 3
   },
   "file_extension": ".py",
   "mimetype": "text/x-python",
   "name": "python",
   "nbconvert_exporter": "python",
   "pygments_lexer": "ipython3",
   "version": "3.7.3"
  }
 },
 "nbformat": 4,
 "nbformat_minor": 2
}
